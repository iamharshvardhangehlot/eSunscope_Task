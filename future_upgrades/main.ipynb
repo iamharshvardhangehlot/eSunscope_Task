{
 "cells": [
  {
   "cell_type": "code",
   "execution_count": null,
   "metadata": {},
   "outputs": [
    {
     "name": "stdout",
     "output_type": "stream",
     "text": [
      "Requirement already satisfied: scikit-learn in d:\\esunscope\\esun_env\\lib\\site-packages (1.5.2)\n",
      "Requirement already satisfied: numpy>=1.19.5 in d:\\esunscope\\esun_env\\lib\\site-packages (from scikit-learn) (2.1.3)\n",
      "Requirement already satisfied: scipy>=1.6.0 in d:\\esunscope\\esun_env\\lib\\site-packages (from scikit-learn) (1.14.1)\n",
      "Requirement already satisfied: joblib>=1.2.0 in d:\\esunscope\\esun_env\\lib\\site-packages (from scikit-learn) (1.4.2)\n",
      "Requirement already satisfied: threadpoolctl>=3.1.0 in d:\\esunscope\\esun_env\\lib\\site-packages (from scikit-learn) (3.5.0)\n",
      "Note: you may need to restart the kernel to use updated packages.\n"
     ]
    },
    {
     "name": "stderr",
     "output_type": "stream",
     "text": [
      "\n",
      "[notice] A new release of pip is available: 24.0 -> 24.3.1\n",
      "[notice] To update, run: python.exe -m pip install --upgrade pip\n"
     ]
    }
   ],
   "source": [
    "pip install scikit-learn\n"
   ]
  },
  {
   "cell_type": "code",
   "execution_count": null,
   "metadata": {},
   "outputs": [],
   "source": [
    "# from sqlalchemy import create_engine\n",
    "# import pandas as pd\n",
    "\n",
    "# # Load data from the database\n",
    "# engine = create_engine('mysql+pymysql://root:@localhost/esunscope')\n",
    "# employees_df = pd.read_sql('SELECT * FROM Employees', engine)\n",
    "\n",
    "# # Load each yearly work report and add a Year column\n",
    "# work_report_year1_df = pd.read_sql('SELECT * FROM WorkReports_Year1', engine)\n",
    "# work_report_year1_df['Year'] = 1\n",
    "# work_report_year2_df = pd.read_sql('SELECT * FROM WorkReports_Year2', engine)\n",
    "# work_report_year2_df['Year'] = 2\n",
    "# work_report_year3_df = pd.read_sql('SELECT * FROM WorkReports_Year3', engine)\n",
    "# work_report_year3_df['Year'] = 3\n",
    "# work_report_year4_df = pd.read_sql('SELECT * FROM WorkReports_Year4', engine)\n",
    "# work_report_year4_df['Year'] = 4\n",
    "\n",
    "# # Concatenate all yearly work reports\n",
    "# work_reports_df = pd.concat([work_report_year1_df, work_report_year2_df, work_report_year3_df, work_report_year4_df])\n",
    "\n",
    "# # Merge with employee details\n",
    "# merged_df = work_reports_df.merge(employees_df, on='EmployeeID', how='left')\n"
   ]
  },
  {
   "cell_type": "code",
   "execution_count": null,
   "metadata": {},
   "outputs": [
    {
     "name": "stdout",
     "output_type": "stream",
     "text": [
      "Mean Absolute Error: 0.34300925925925935\n",
      "Root Mean Squared Error: 0.451999757593074\n"
     ]
    }
   ],
   "source": [
    "# import numpy as np\n",
    "# import pandas as pd\n",
    "# from sklearn.model_selection import train_test_split\n",
    "# from sklearn.ensemble import RandomForestRegressor\n",
    "# from sklearn.metrics import mean_absolute_error, mean_squared_error\n",
    "\n",
    "# # Select features and target from merged_df\n",
    "# data = merged_df[['HoursWorked', 'PerformanceScore', 'FeedbackScore', 'Department', 'Position', 'Year', 'Month', 'ProjectsCompleted']]\n",
    "\n",
    "# # Convert categorical features to dummy variables\n",
    "# data = pd.get_dummies(data, columns=['Department', 'Position', 'Month'])\n",
    "\n",
    "# # Define features (X) and target (y)\n",
    "# X = data.drop('ProjectsCompleted', axis=1)\n",
    "# y = data['ProjectsCompleted']\n",
    "\n",
    "# # Split the data into training and testing sets\n",
    "# X_train, X_test, y_train, y_test = train_test_split(X, y, test_size=0.2, random_state=42)\n",
    "\n",
    "# # Initialize and train the model\n",
    "# model = RandomForestRegressor(n_estimators=100, random_state=42)\n",
    "# model.fit(X_train, y_train)\n",
    "\n",
    "# # Evaluate the model\n",
    "# y_pred = model.predict(X_test)\n",
    "# mae = mean_absolute_error(y_test, y_pred)\n",
    "# rmse = np.sqrt(mean_squared_error(y_test, y_pred))\n",
    "# print(\"Mean Absolute Error:\", mae)\n",
    "# print(\"Root Mean Squared Error:\", rmse)\n"
   ]
  },
  {
   "cell_type": "code",
   "execution_count": null,
   "metadata": {},
   "outputs": [
    {
     "data": {
      "text/plain": [
       "['employee_performance_model.pkl']"
      ]
     },
     "execution_count": 9,
     "metadata": {},
     "output_type": "execute_result"
    }
   ],
   "source": [
    "# import joblib\n",
    "\n",
    "# # Save the model\n",
    "# joblib.dump(model, \"employee_performance_model.pkl\")\n"
   ]
  },
  {
   "cell_type": "code",
   "execution_count": null,
   "metadata": {},
   "outputs": [],
   "source": [
    "# "
   ]
  }
 ],
 "metadata": {
  "kernelspec": {
   "display_name": "esun_env",
   "language": "python",
   "name": "python3"
  },
  "language_info": {
   "codemirror_mode": {
    "name": "ipython",
    "version": 3
   },
   "file_extension": ".py",
   "mimetype": "text/x-python",
   "name": "python",
   "nbconvert_exporter": "python",
   "pygments_lexer": "ipython3",
   "version": "3.12.4"
  }
 },
 "nbformat": 4,
 "nbformat_minor": 2
}
